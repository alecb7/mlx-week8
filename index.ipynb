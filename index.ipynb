{
 "cells": [
  {
   "cell_type": "markdown",
   "metadata": {},
   "source": [
    "# 1. Get query and docuument encoders"
   ]
  },
  {
   "cell_type": "code",
   "execution_count": 5,
   "metadata": {},
   "outputs": [],
   "source": [
    "import numpy as np"
   ]
  },
  {
   "cell_type": "code",
   "execution_count": 6,
   "metadata": {},
   "outputs": [],
   "source": [
    "from sentence_transformers import SentenceTransformer\n",
    "import torch\n",
    "\n",
    "device = \"cuda\" if torch.cuda.is_available() else \"cpu\"\n",
    "\n",
    "query_model = SentenceTransformer(\"all-MiniLM-L6-v2\", device=device)\n",
    "\n",
    "document_model = SentenceTransformer(\"all-MiniLM-L6-v2\", device=device)\n",
    "\n",
    "# Sentences we want to encode. Example:\n",
    "\n",
    "# Sentences are encoded by calling model.encode()"
   ]
  },
  {
   "cell_type": "markdown",
   "metadata": {},
   "source": [
    "# 2a get dataset"
   ]
  },
  {
   "cell_type": "code",
   "execution_count": 7,
   "metadata": {},
   "outputs": [],
   "source": [
    "from datasets import load_dataset"
   ]
  },
  {
   "cell_type": "code",
   "execution_count": 8,
   "metadata": {},
   "outputs": [
    {
     "name": "stderr",
     "output_type": "stream",
     "text": [
      "Downloading readme: 100%|██████████| 9.48k/9.48k [00:00<00:00, 9.97MB/s]\n",
      "Downloading data: 100%|██████████| 210M/210M [00:01<00:00, 108MB/s]  \n",
      "Downloading data: 100%|██████████| 240M/240M [00:02<00:00, 112MB/s]  \n",
      "Downloading data: 100%|██████████| 240M/240M [00:02<00:00, 111MB/s]  \n",
      "Downloading data: 100%|██████████| 241M/241M [00:02<00:00, 111MB/s]  \n",
      "Downloading data: 100%|██████████| 242M/242M [00:02<00:00, 102MB/s]  \n",
      "Downloading data: 100%|██████████| 242M/242M [00:02<00:00, 110MB/s]  \n",
      "Downloading data: 100%|██████████| 242M/242M [00:02<00:00, 112MB/s]  \n",
      "Downloading data: 100%|██████████| 244M/244M [00:02<00:00, 112MB/s]  \n",
      "Downloading data: 100%|██████████| 204M/204M [00:02<00:00, 99.7MB/s] \n",
      "Generating validation split: 100%|██████████| 101093/101093 [00:01<00:00, 72970.01 examples/s]\n",
      "Generating train split: 100%|██████████| 808731/808731 [00:10<00:00, 77588.90 examples/s]\n",
      "Generating test split: 100%|██████████| 101092/101092 [00:01<00:00, 81164.25 examples/s]\n"
     ]
    }
   ],
   "source": [
    "dataset = load_dataset(\n",
    "    \"ms_marco\", \"v2.1\"\n",
    ")\n",
    "\n",
    "train_dataset = dataset[\"train\"]"
   ]
  },
  {
   "cell_type": "code",
   "execution_count": 9,
   "metadata": {},
   "outputs": [],
   "source": [
    "def convert_to_query_pairs(row):\n",
    "    pairs = []\n",
    "    for i in range(len(row[\"passages\"][\"passage_text\"])):\n",
    "        pairs.append({\"query\": row[\"query\"], \"passage\": row[\"passages\"][\"passage_text\"][i]})\n",
    "        \n",
    "    return pairs"
   ]
  },
  {
   "cell_type": "code",
   "execution_count": 10,
   "metadata": {},
   "outputs": [],
   "source": [
    "\n",
    "# pairs =  convert_to_query_pairs(one_dataset[0])\n",
    "\n",
    "passages = []\n",
    "queries = []\n",
    "\n",
    "filtered_dataset = [item for item in train_dataset if len(item[\"wellFormedAnswers\"]) > 0]\n",
    "\n",
    "for i in range(len(filtered_dataset)):\n",
    "    queries.append(filtered_dataset[i][\"query\"])\n",
    "    for passage in filtered_dataset[i][\"passages\"][\"passage_text\"]:\n",
    "        passages.append(passage)\n",
    "        "
   ]
  },
  {
   "cell_type": "code",
   "execution_count": 11,
   "metadata": {},
   "outputs": [],
   "source": [
    "document_embeddings = document_model.encode(passages)"
   ]
  },
  {
   "cell_type": "code",
   "execution_count": 12,
   "metadata": {},
   "outputs": [],
   "source": [
    "import pickle\n",
    "with open(\"my-embeddings.pkl\", \"wb\") as fOut:\n",
    "    pickle.dump({'sentences': passages, 'embeddings': document_embeddings},fOut)\n"
   ]
  },
  {
   "cell_type": "code",
   "execution_count": 13,
   "metadata": {},
   "outputs": [],
   "source": [
    "document_dim = document_model.get_sentence_embedding_dimension()\n",
    "query_dim = query_model.get_sentence_embedding_dimension()"
   ]
  },
  {
   "cell_type": "markdown",
   "metadata": {},
   "source": [
    "# Apply FAISS\n"
   ]
  },
  {
   "cell_type": "code",
   "execution_count": 14,
   "metadata": {},
   "outputs": [],
   "source": [
    "import faiss"
   ]
  },
  {
   "cell_type": "code",
   "execution_count": 15,
   "metadata": {},
   "outputs": [
    {
     "data": {
      "text/plain": [
       "True"
      ]
     },
     "execution_count": 15,
     "metadata": {},
     "output_type": "execute_result"
    }
   ],
   "source": [
    "# IndexFlatL2\n",
    "\n",
    "index = faiss.IndexFlatL2(document_dim)\n",
    "\n",
    "index.is_trained"
   ]
  },
  {
   "cell_type": "code",
   "execution_count": 16,
   "metadata": {},
   "outputs": [],
   "source": [
    "index.add(document_embeddings)"
   ]
  },
  {
   "cell_type": "code",
   "execution_count": 17,
   "metadata": {},
   "outputs": [
    {
     "data": {
      "text/plain": [
       "1533292"
      ]
     },
     "execution_count": 17,
     "metadata": {},
     "output_type": "execute_result"
    }
   ],
   "source": [
    "index.ntotal"
   ]
  },
  {
   "cell_type": "code",
   "execution_count": 28,
   "metadata": {},
   "outputs": [
    {
     "name": "stdout",
     "output_type": "stream",
     "text": [
      "[[ 257789 1503477  930554 1503480  190644 1522522  152765  993454  257794\n",
      "  1438502]]\n"
     ]
    }
   ],
   "source": [
    "k = 10\n",
    "\n",
    "xq = query_model.encode(['What colours make green?'])\n",
    "\n",
    "D, I = index.search(xq, k)\n",
    "\n",
    "print(I)"
   ]
  },
  {
   "cell_type": "code",
   "execution_count": 29,
   "metadata": {},
   "outputs": [
    {
     "data": {
      "text/plain": [
       "['257789: Green is the color between blue and yellow on the spectrum of visible light. It is evoked by light with a predominant wavelength of roughly 495–570 nm.',\n",
       " '1503477: Varieties of the color green may differ in hue, chroma (also called saturation or intensity) or lightness (or value, tone, or brightness), or in two or three of these qualities. Variations in value are also called tints and shades, a tint being a green or other hue mixed with white, a shade being mixed with black.ine green is a rich shade of spring green that resembles the color of pine trees. It is an official Crayola color (since 1949) that is this exact shade in the Crayola crayon, but in the markers, it is known as crocodile green.',\n",
       " '930554: Quick Answer. Green is made by mixing blue and yellow. A mixture containing more blue than yellow makes dark green, while a mixture with more yellow than blue makes lime green, and a blue-and-yellow mixture with white added makes pastel green. Continue Reading.',\n",
       " '1503480: Green is common in nature, especially in plants. Many plants are green mainly because of a complex chemical known as chlorophyll which is involved in photosynthesis. Many shades of green have been named after plants or are related to plants.ine green is a rich shade of spring green that resembles the color of pine trees. It is an official Crayola color (since 1949) that is this exact shade in the Crayola crayon, but in the markers, it is known as crocodile green.',\n",
       " \"190644: Green is the color of nature, fertility, life. Grass green is the most restful color. Green symbolizes self-respect and well being. Green is the color of balance. It also means learning, growth and harmony. Green is a safe color, if you don't know what color to use anywhere use green.\",\n",
       " '1522522: Green is the color of nature and health. It represents growth, nature, money, fertility and safety. Green is a relaxing color that is easy on the eye and has a healing power to it. It is often used to represent anything having to do with health.',\n",
       " \"152765: Chlorophyll pigment is always green. Plant leaves and stems aren't always green because they have many pigments other than chlorophyll. Pigments are molecules that absorb specific colors of light and reflect other colors, depending on their chemical structure. The reflected colors are what give pigments their color.Chlorophyll pigments are green because they reflect green light. There are different types of chlorophyll (chlorophyll-a, chlorophyll-b, chlorophyll-c1, chlorophyll-c2, chlorophyll-d, divinyl chlorophyll-a).hlorophyll pigment is always green. Plant leaves and stems aren't always green because they have many pigments other than chlorophyll. Pigments are molecules that absorb specific colors of light and reflect other colors, depending on their chemical structure. The reflected colors are what give pigments their color.\",\n",
       " '993454: Perhaps because green is so heavily associated with nature, it is often described as a refreshing and tranquil color. 1  Green is a cool color that symbolizes nature and the natural world.  Green also represents tranquility, good luck, health, and jealousy.',\n",
       " '257794: The modern English word green comes from the Middle English and Anglo-Saxon word grene, from the same Germanic root as the words grass and grow. It is the color of living grass and leaves and as a result is the color most associated with springtime, growth and nature. By far the largest contributor to green in nature is chlorophyll, the chemical by which plants photosynthesize and convert sunlight into chemical energy.',\n",
       " '1438502: noun. A green pigment, present in all green plants and in cyanobacteria, which is responsible for the absorption of light to provide energy for photosynthesis. Example sentences. 1  The green colouring comes from chlorophyll, the same pigment that is found in foliage.']"
      ]
     },
     "execution_count": 29,
     "metadata": {},
     "output_type": "execute_result"
    }
   ],
   "source": [
    "[f'{i}: {passages[i]}' for i in I[0]]"
   ]
  }
 ],
 "metadata": {
  "kernelspec": {
   "display_name": "sklearn-env",
   "language": "python",
   "name": "python3"
  },
  "language_info": {
   "codemirror_mode": {
    "name": "ipython",
    "version": 3
   },
   "file_extension": ".py",
   "mimetype": "text/x-python",
   "name": "python",
   "nbconvert_exporter": "python",
   "pygments_lexer": "ipython3",
   "version": "3.12.2"
  }
 },
 "nbformat": 4,
 "nbformat_minor": 2
}
