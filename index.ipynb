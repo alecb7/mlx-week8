{
 "cells": [
  {
   "cell_type": "markdown",
   "metadata": {},
   "source": [
    "# 1. Get query and docuument encoders"
   ]
  },
  {
   "cell_type": "code",
   "execution_count": 1,
   "metadata": {},
   "outputs": [],
   "source": [
    "import numpy as np"
   ]
  },
  {
   "cell_type": "code",
   "execution_count": 12,
   "metadata": {},
   "outputs": [],
   "source": [
    "from sentence_transformers import SentenceTransformer\n",
    "import torch\n",
    "\n",
    "device = \"cuda\" if torch.cuda.is_available() else \"cpu\"\n",
    "\n",
    "query_model = SentenceTransformer(\"all-MiniLM-L6-v2\", device=device)\n",
    "\n",
    "document_model = SentenceTransformer(\"all-MiniLM-L6-v2\", device=device)\n",
    "\n",
    "# Sentences we want to encode. Example:\n",
    "\n",
    "# Sentences are encoded by calling model.encode()"
   ]
  },
  {
   "cell_type": "markdown",
   "metadata": {},
   "source": [
    "# 2a get dataset"
   ]
  },
  {
   "cell_type": "code",
   "execution_count": 5,
   "metadata": {},
   "outputs": [],
   "source": [
    "from datasets import load_dataset"
   ]
  },
  {
   "cell_type": "code",
   "execution_count": 6,
   "metadata": {},
   "outputs": [
    {
     "name": "stderr",
     "output_type": "stream",
     "text": [
      "Downloading readme: 100%|██████████| 9.48k/9.48k [00:00<00:00, 15.5MB/s]\n",
      "Downloading data: 100%|██████████| 210M/210M [00:02<00:00, 104MB/s]  \n",
      "Downloading data: 100%|██████████| 240M/240M [00:02<00:00, 112MB/s]  \n",
      "Downloading data: 100%|██████████| 240M/240M [00:02<00:00, 111MB/s]  \n",
      "Downloading data: 100%|██████████| 241M/241M [00:02<00:00, 111MB/s]  \n",
      "Downloading data: 100%|██████████| 242M/242M [00:02<00:00, 102MB/s]  \n",
      "Downloading data: 100%|██████████| 242M/242M [00:02<00:00, 111MB/s]  \n",
      "Downloading data: 100%|██████████| 242M/242M [00:02<00:00, 112MB/s]  \n",
      "Downloading data: 100%|██████████| 244M/244M [00:02<00:00, 112MB/s]  \n",
      "Downloading data: 100%|██████████| 204M/204M [00:02<00:00, 99.5MB/s] \n",
      "Generating validation split: 100%|██████████| 101093/101093 [00:01<00:00, 78076.74 examples/s]\n",
      "Generating train split: 100%|██████████| 808731/808731 [00:10<00:00, 75493.44 examples/s]\n",
      "Generating test split: 100%|██████████| 101092/101092 [00:01<00:00, 75834.11 examples/s]\n"
     ]
    }
   ],
   "source": [
    "dataset = load_dataset(\n",
    "    \"ms_marco\", \"v2.1\"\n",
    ")\n",
    "\n",
    "train_dataset = dataset[\"train\"]"
   ]
  },
  {
   "cell_type": "code",
   "execution_count": 8,
   "metadata": {},
   "outputs": [],
   "source": [
    "def convert_to_query_pairs(row):\n",
    "    pairs = []\n",
    "    for i in range(len(row[\"passages\"][\"passage_text\"])):\n",
    "        pairs.append({\"query\": row[\"query\"], \"passage\": row[\"passages\"][\"passage_text\"][i]})\n",
    "        \n",
    "    return pairs"
   ]
  },
  {
   "cell_type": "code",
   "execution_count": 10,
   "metadata": {},
   "outputs": [],
   "source": [
    "\n",
    "# pairs =  convert_to_query_pairs(one_dataset[0])\n",
    "\n",
    "passages = []\n",
    "queries = []\n",
    "\n",
    "filtered_dataset = [item for item in train_dataset if len(item[\"wellFormedAnswers\"]) > 0]\n",
    "\n",
    "for i in range(len(filtered_dataset)):\n",
    "    queries.append(filtered_dataset[i][\"query\"])\n",
    "    for passage in filtered_dataset[i][\"passages\"][\"passage_text\"]:\n",
    "        passages.append(passage)\n",
    "        "
   ]
  },
  {
   "cell_type": "code",
   "execution_count": 13,
   "metadata": {},
   "outputs": [],
   "source": [
    "document_embeddings = document_model.encode(passages)"
   ]
  },
  {
   "cell_type": "code",
   "execution_count": 15,
   "metadata": {},
   "outputs": [],
   "source": [
    "import pickle\n",
    "with open(\"my-embeddings.pkl\", \"wb\") as fOut:\n",
    "    pickle.dump({'sentences': passages, 'embeddings': document_embeddings},fOut)\n"
   ]
  },
  {
   "cell_type": "code",
   "execution_count": null,
   "metadata": {},
   "outputs": [],
   "source": [
    "document_dim = document_model.get_sentence_embedding_dimension()\n",
    "query_dim = query_model.get_sentence_embedding_dimension()"
   ]
  },
  {
   "cell_type": "markdown",
   "metadata": {},
   "source": [
    "# Apply FAISS\n"
   ]
  },
  {
   "cell_type": "code",
   "execution_count": null,
   "metadata": {},
   "outputs": [],
   "source": [
    "import faiss"
   ]
  },
  {
   "cell_type": "code",
   "execution_count": null,
   "metadata": {},
   "outputs": [],
   "source": []
  }
 ],
 "metadata": {
  "kernelspec": {
   "display_name": "sklearn-env",
   "language": "python",
   "name": "python3"
  },
  "language_info": {
   "codemirror_mode": {
    "name": "ipython",
    "version": 3
   },
   "file_extension": ".py",
   "mimetype": "text/x-python",
   "name": "python",
   "nbconvert_exporter": "python",
   "pygments_lexer": "ipython3",
   "version": "3.12.2"
  }
 },
 "nbformat": 4,
 "nbformat_minor": 2
}
