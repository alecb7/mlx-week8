{
 "cells": [
  {
   "cell_type": "markdown",
   "metadata": {},
   "source": [
    "# 1. Get query and docuument encoders"
   ]
  },
  {
   "cell_type": "code",
   "execution_count": 5,
   "metadata": {},
   "outputs": [],
   "source": [
    "import numpy as np"
   ]
  },
  {
   "cell_type": "code",
   "execution_count": 6,
   "metadata": {},
   "outputs": [],
   "source": [
    "from sentence_transformers import SentenceTransformer\n",
    "import torch\n",
    "\n",
    "device = \"cuda\" if torch.cuda.is_available() else \"cpu\"\n",
    "\n",
    "query_model = SentenceTransformer(\"all-MiniLM-L6-v2\", device=device)\n",
    "\n",
    "document_model = SentenceTransformer(\"all-MiniLM-L6-v2\", device=device)\n",
    "\n",
    "# Sentences we want to encode. Example:\n",
    "\n",
    "# Sentences are encoded by calling model.encode()"
   ]
  },
  {
   "cell_type": "markdown",
   "metadata": {},
   "source": [
    "# 2a get dataset"
   ]
  },
  {
   "cell_type": "code",
   "execution_count": 7,
   "metadata": {},
   "outputs": [],
   "source": [
    "from datasets import load_dataset"
   ]
  },
  {
   "cell_type": "code",
   "execution_count": 8,
   "metadata": {},
   "outputs": [
    {
     "name": "stderr",
     "output_type": "stream",
     "text": [
      "Downloading readme: 100%|██████████| 9.48k/9.48k [00:00<00:00, 9.97MB/s]\n",
      "Downloading data: 100%|██████████| 210M/210M [00:01<00:00, 108MB/s]  \n",
      "Downloading data: 100%|██████████| 240M/240M [00:02<00:00, 112MB/s]  \n",
      "Downloading data: 100%|██████████| 240M/240M [00:02<00:00, 111MB/s]  \n",
      "Downloading data: 100%|██████████| 241M/241M [00:02<00:00, 111MB/s]  \n",
      "Downloading data: 100%|██████████| 242M/242M [00:02<00:00, 102MB/s]  \n",
      "Downloading data: 100%|██████████| 242M/242M [00:02<00:00, 110MB/s]  \n",
      "Downloading data: 100%|██████████| 242M/242M [00:02<00:00, 112MB/s]  \n",
      "Downloading data: 100%|██████████| 244M/244M [00:02<00:00, 112MB/s]  \n",
      "Downloading data: 100%|██████████| 204M/204M [00:02<00:00, 99.7MB/s] \n",
      "Generating validation split: 100%|██████████| 101093/101093 [00:01<00:00, 72970.01 examples/s]\n",
      "Generating train split: 100%|██████████| 808731/808731 [00:10<00:00, 77588.90 examples/s]\n",
      "Generating test split: 100%|██████████| 101092/101092 [00:01<00:00, 81164.25 examples/s]\n"
     ]
    }
   ],
   "source": [
    "dataset = load_dataset(\n",
    "    \"ms_marco\", \"v2.1\"\n",
    ")\n",
    "\n",
    "train_dataset = dataset[\"train\"]"
   ]
  },
  {
   "cell_type": "code",
   "execution_count": 9,
   "metadata": {},
   "outputs": [],
   "source": [
    "def convert_to_query_pairs(row):\n",
    "    pairs = []\n",
    "    for i in range(len(row[\"passages\"][\"passage_text\"])):\n",
    "        pairs.append({\"query\": row[\"query\"], \"passage\": row[\"passages\"][\"passage_text\"][i]})\n",
    "        \n",
    "    return pairs"
   ]
  },
  {
   "cell_type": "code",
   "execution_count": 10,
   "metadata": {},
   "outputs": [],
   "source": [
    "\n",
    "# pairs =  convert_to_query_pairs(one_dataset[0])\n",
    "\n",
    "passages = []\n",
    "queries = []\n",
    "\n",
    "filtered_dataset = [item for item in train_dataset if len(item[\"wellFormedAnswers\"]) > 0]\n",
    "\n",
    "for i in range(len(filtered_dataset)):\n",
    "    queries.append(filtered_dataset[i][\"query\"])\n",
    "    for passage in filtered_dataset[i][\"passages\"][\"passage_text\"]:\n",
    "        passages.append(passage)\n",
    "        "
   ]
  },
  {
   "cell_type": "code",
   "execution_count": 11,
   "metadata": {},
   "outputs": [],
   "source": [
    "document_embeddings = document_model.encode(passages)"
   ]
  },
  {
   "cell_type": "code",
   "execution_count": 12,
   "metadata": {},
   "outputs": [],
   "source": [
    "import pickle\n",
    "with open(\"my-embeddings.pkl\", \"wb\") as fOut:\n",
    "    pickle.dump({'sentences': passages, 'embeddings': document_embeddings},fOut)\n"
   ]
  },
  {
   "cell_type": "code",
   "execution_count": 13,
   "metadata": {},
   "outputs": [],
   "source": [
    "document_dim = document_model.get_sentence_embedding_dimension()\n",
    "query_dim = query_model.get_sentence_embedding_dimension()"
   ]
  },
  {
   "cell_type": "markdown",
   "metadata": {},
   "source": [
    "# Apply FAISS\n"
   ]
  },
  {
   "cell_type": "code",
   "execution_count": 14,
   "metadata": {},
   "outputs": [],
   "source": [
    "import faiss"
   ]
  },
  {
   "cell_type": "code",
   "execution_count": 15,
   "metadata": {},
   "outputs": [
    {
     "data": {
      "text/plain": [
       "True"
      ]
     },
     "execution_count": 15,
     "metadata": {},
     "output_type": "execute_result"
    }
   ],
   "source": [
    "# IndexFlatL2\n",
    "\n",
    "index = faiss.IndexFlatL2(document_dim)\n",
    "\n",
    "index.is_trained"
   ]
  },
  {
   "cell_type": "code",
   "execution_count": 16,
   "metadata": {},
   "outputs": [],
   "source": [
    "index.add(document_embeddings)"
   ]
  },
  {
   "cell_type": "code",
   "execution_count": 17,
   "metadata": {},
   "outputs": [
    {
     "data": {
      "text/plain": [
       "1533292"
      ]
     },
     "execution_count": 17,
     "metadata": {},
     "output_type": "execute_result"
    }
   ],
   "source": [
    "index.ntotal"
   ]
  },
  {
   "cell_type": "code",
   "execution_count": 20,
   "metadata": {},
   "outputs": [
    {
     "name": "stdout",
     "output_type": "stream",
     "text": [
      "[[ 174926  567411  612022 1121248 1469728  903413  496485  496492  825515\n",
      "   898918]]\n"
     ]
    }
   ],
   "source": [
    "k = 10\n",
    "\n",
    "xq = query_model.encode(['Who is JFK'])\n",
    "\n",
    "D, I = index.search(xq, k)\n",
    "\n",
    "print(I)"
   ]
  },
  {
   "cell_type": "code",
   "execution_count": 21,
   "metadata": {},
   "outputs": [
    {
     "data": {
      "text/plain": [
       "['174926: John Fitzgerald Jack Kennedy (May 29, 1917 – November 22, 1963), commonly referred to by his initials JFK, was an American politician who served as the 35th President of the United States from January 1961 until his assassination in November 1963.',\n",
       " '567411: John Fitzgerald Jack Kennedy (May 29, 1917 – November 22, 1963), commonly referred to by his initials JFK, was an American politician who served as the 35th President of the United States from January 1961 until his assassination in November 1963.',\n",
       " '612022: John Fitzgerald Jack Kennedy (May 29, 1917 – November 22, 1963), commonly referred to by his initials JFK, was an American politician who served as the 35th President of the United States from January 1961 until his assassination in November 1963.',\n",
       " '1121248: John Fitzgerald Jack Kennedy (May 29, 1917 – November 22, 1963), commonly referred to by his initials JFK, was an American politician who served as the 35th President of the United States from January 1961 until his assassination in November 1963.',\n",
       " '1469728: John Fitzgerald Jack Kennedy (May 29, 1917 – November 22, 1963), commonly referred to by his initials JFK, was an American politician who served as the 35th President of the United States from January 1961 until his assassination in November 1963.',\n",
       " '903413: John F Kennedy (known as JFK) was the 35th president of the United States, an immensely popular leader who was assassinated before he completed his third year in office.Photo: Official Portrait of John F Kennedy (Getty Images).ohn F Kennedy (known as JFK) was the 35th president of the United States, an immensely popular leader who was assassinated before he completed his third year in office. Photo: Official Portrait of John F Kennedy (Getty Images).',\n",
       " '496485: John F Kennedy. John F Kennedy (known as JFK) was the 35th president of the United States, an immensely popular leader who was assassinated before he completed his third year in office. Photo: Official Portrait of John F Kennedy (Getty Images) President Kennedy was assassinated on 22 November 1963 in Dallas, Texas.',\n",
       " '496492: John F Kennedy. John F Kennedy (known as JFK) was the 35th president of the United States, an immensely popular leader who was assassinated before he completed his third year in office. More information about: John F Kennedy. President Kennedy was assassinated on 22 November 1963 in Dallas, Texas.',\n",
       " '825515: John Fitzgerald  Jack  Kennedy (May 29, 1917 – November 22, 1963), commonly referred to by his initials JFK, was an American politician who served as the 35th President of the United States from January 1961 until his assassination in November 1963.ennedy was assassinated in Dallas, Texas on November 22, 1963. Lee Harvey Oswald was arrested that afternoon and charged with the crime that night. Jack Ruby shot and killed Oswald two days later, before Oswald could be prosecuted.',\n",
       " '898918: John Fitzgerald  Jack  Kennedy (May 29, 1917 – November 22, 1963), commonly referred to by his initials JFK, was an American politician who served as the 35th President of the United States from January 1961 until his assassination in November 1963.ennedy was assassinated in Dallas, Texas on November 22, 1963. Lee Harvey Oswald was arrested that afternoon and charged with the crime that night. Jack Ruby shot and killed Oswald two days later, before Oswald could be prosecuted.']"
      ]
     },
     "execution_count": 21,
     "metadata": {},
     "output_type": "execute_result"
    }
   ],
   "source": [
    "[f'{i}: {passages[i]}' for i in I[0]]"
   ]
  }
 ],
 "metadata": {
  "kernelspec": {
   "display_name": "sklearn-env",
   "language": "python",
   "name": "python3"
  },
  "language_info": {
   "codemirror_mode": {
    "name": "ipython",
    "version": 3
   },
   "file_extension": ".py",
   "mimetype": "text/x-python",
   "name": "python",
   "nbconvert_exporter": "python",
   "pygments_lexer": "ipython3",
   "version": "3.12.2"
  }
 },
 "nbformat": 4,
 "nbformat_minor": 2
}
